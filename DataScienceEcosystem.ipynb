{
 "cells": [
  {
   "cell_type": "markdown",
   "id": "df6bd36b-e2da-4e5e-ac74-c04674744632",
   "metadata": {},
   "source": [
    "# Data Science Tools and Ecosystem"
   ]
  },
  {
   "cell_type": "markdown",
   "id": "40ed53a7-14a5-46e8-8e8b-389d7a47c898",
   "metadata": {},
   "source": [
    "In this notebook, Dara Science Tools and Ecosystem are summarized"
   ]
  },
  {
   "cell_type": "markdown",
   "id": "f195647e-c4a9-4759-8f86-7f1d2b017237",
   "metadata": {},
   "source": [
    "**Objectives:**\n",
    "- List popular changes for Data Science\n",
    "- List commonly libraries used by Data Scientists\n",
    "- List some development environment open source for Data Science\n",
    "- Create some code cells in a Jupyter notebook"
   ]
  },
  {
   "cell_type": "markdown",
   "id": "07919459-e5d5-47e3-ab88-00ffe096140b",
   "metadata": {},
   "source": [
    "Some of the popular languages that Data Scientis use are:\n",
    "1. Python\n",
    "2. R\n",
    "3. SQL"
   ]
  },
  {
   "cell_type": "markdown",
   "id": "6dec9dd8-0978-4bab-a306-83d53f220500",
   "metadata": {},
   "source": [
    "Some of the commonly used libraries used by Data Scientists include:\n",
    "\n",
    "1. Pandas\n",
    "2. MatplotLib\n",
    "3. NumPy\n"
   ]
  },
  {
   "cell_type": "markdown",
   "id": "03f856a9-b697-45d3-aabc-d6468a0e70f4",
   "metadata": {},
   "source": [
    "|Data Science Tools|\n",
    "|------------------|\n",
    "| Jupyter|\n",
    "| Apache Zeppelin |\n",
    "| RStudio |"
   ]
  },
  {
   "cell_type": "markdown",
   "id": "3ac21774-b504-4b41-80d1-a1534690721e",
   "metadata": {},
   "source": [
    "Below are a few examples of evaluating arithmetic expession in Python"
   ]
  },
  {
   "cell_type": "code",
   "execution_count": 1,
   "id": "f9b860c8-b5ad-4a87-9d7a-12dc8e4e6074",
   "metadata": {},
   "outputs": [
    {
     "data": {
      "text/plain": [
       "17"
      ]
     },
     "execution_count": 1,
     "metadata": {},
     "output_type": "execute_result"
    }
   ],
   "source": [
    "# This a simple arithmetic expression to multiply then add integers\n",
    "(3*4)+5 "
   ]
  },
  {
   "cell_type": "code",
   "execution_count": 2,
   "id": "469e82ca-6d54-47bd-8379-499689dd3155",
   "metadata": {},
   "outputs": [
    {
     "data": {
      "text/plain": [
       "3.3333333333333335"
      ]
     },
     "execution_count": 2,
     "metadata": {},
     "output_type": "execute_result"
    }
   ],
   "source": [
    "# This will convert 200 minutes to hours by dividing by 60\n",
    "200 / 60"
   ]
  },
  {
   "cell_type": "markdown",
   "id": "c6f4e104-c32d-4bd8-9394-4bd7c1e5f3fd",
   "metadata": {},
   "source": [
    "## Author\n",
    "Rodolfo Rosa"
   ]
  },
  {
   "cell_type": "code",
   "execution_count": null,
   "id": "b841b773-2a1c-470a-a5f0-954459f4ce5e",
   "metadata": {},
   "outputs": [],
   "source": []
  }
 ],
 "metadata": {
  "kernelspec": {
   "display_name": "Python 3 (ipykernel)",
   "language": "python",
   "name": "python3"
  },
  "language_info": {
   "codemirror_mode": {
    "name": "ipython",
    "version": 3
   },
   "file_extension": ".py",
   "mimetype": "text/x-python",
   "name": "python",
   "nbconvert_exporter": "python",
   "pygments_lexer": "ipython3",
   "version": "3.10.12"
  }
 },
 "nbformat": 4,
 "nbformat_minor": 5
}
